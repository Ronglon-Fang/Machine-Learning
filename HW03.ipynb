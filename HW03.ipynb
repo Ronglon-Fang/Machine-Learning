{
 "cells": [
  {
   "cell_type": "markdown",
   "metadata": {},
   "source": [
    "![title](01.png)"
   ]
  },
  {
   "cell_type": "markdown",
   "metadata": {},
   "source": []
  },
  {
   "cell_type": "markdown",
   "metadata": {},
   "source": [
    "## Solution: (1) Least-squares regression"
   ]
  },
  {
   "cell_type": "markdown",
   "metadata": {},
   "source": [
    "Soppose the separation boundary is $f(x) = w_{1}x_{1} + w_{2}x_{2} + w_{0}$. We define the least square distance $$F(w_{1},w_{2},w_{0}) = \\sum_{(x_{ip1},x_{ip2}) \\in xp}(w_{1}x_{ip1}+w_{2}x_{ip2}+w_{0}-1)^{2}+ \\sum_{(x_{im1}, x_{im2}) \\in xm}(w_{1}x_{im1} + w_{2}x_{im2} + w_{0}+1)^{2}$$\n",
    "\n",
    "Let $\\mathbf{w} = (w_{1}, w_{2}, w_{0})$\n",
    "\n",
    "\\begin{equation}\n",
    "\\mathbf{X}: = \n",
    "\\begin{bmatrix}\n",
    "x_{1p1}w_{1}+x_{1p2}w_{2}+w_{0}-1\\\\\n",
    "x_{2p1}w_{1}+x_{2p2}w_{2}+w_{0}-1\\\\\n",
    "\\vdots\\\\\n",
    "x_{np1}w_{1}+x_{np1}w_{2}+w_{0}-1\n",
    "\\end{bmatrix}\n",
    "=\n",
    "\\begin{bmatrix}\n",
    "x_{1p1}&x_{1p2}&1\\\\\n",
    "x_{2p1}&x_{2p2}&1\\\\\n",
    "\\vdots&\\vdots&\\vdots\\\\\n",
    "x_{np1}&x_{np2}&1\\\\\n",
    "\\end{bmatrix}\n",
    "\\begin{bmatrix}\n",
    "w_{1}\\\\\n",
    "w_{2}\\\\\n",
    "w_{0}\n",
    "\\end{bmatrix}\n",
    "-\n",
    "\\begin{bmatrix}\n",
    "1\\\\\n",
    "1\\\\\n",
    "\\vdots\\\\\n",
    "1\n",
    "\\end{bmatrix}\n",
    "\\end{equation}\n",
    "\n",
    "Let \n",
    "\n",
    "\\begin{equation}\n",
    "\\mathbf{A} := \n",
    "\\begin{bmatrix}\n",
    "x_{1p1}&x_{1p2}&1\\\\\n",
    "x_{2p1}&x_{2p2}&1\\\\\n",
    "\\vdots&\\vdots&\\vdots\\\\\n",
    "x_{np1}&x_{np2}&1\\\\\n",
    "\\end{bmatrix}\n",
    "\\mathbf{1}: = \n",
    "\\begin{bmatrix}\n",
    "1\\\\\n",
    "1\\\\\n",
    "\\vdots\\\\\n",
    "1\n",
    "\\end{bmatrix}\n",
    "\\end{equation}\n",
    "\n",
    "Then $\\mathbf{X} = \\mathbf{A}\\mathbf{w}-\\mathbf{1}$\n",
    "\n",
    "\\begin{equation}\n",
    "\\mathbf{ \\widetilde{X}}:=\n",
    "\\begin{bmatrix}\n",
    "x_{1m1}w_{1}+x_{1m2}w_{2}+W_{0}+1\\\\\n",
    "x_{2m1}w_{1}+x_{2m2}w_{2}+w_{0}+1\\\\\n",
    "\\vdots\\\\\n",
    "x_{mm1}w_{1}+x_{mm1}w_{2}+w_{0}+1\n",
    "\\end{bmatrix}\n",
    "=\n",
    "\\begin{bmatrix}\n",
    "x_{1m1}&x_{1m2}&1\\\\\n",
    "x_{2m1}&x_{2m2}&1\\\\\n",
    "\\vdots&\\vdots&\\vdots\\\\\n",
    "x_{mm1}&x_{mm2}&1\\\\\n",
    "\\end{bmatrix}\n",
    "\\begin{bmatrix}\n",
    "w_{1}\\\\\n",
    "w_{2}\\\\\n",
    "w_{0}\n",
    "\\end{bmatrix}\n",
    "+\n",
    "\\begin{bmatrix}\n",
    "1\\\\\n",
    "1\\\\\n",
    "\\vdots\\\\\n",
    "1\n",
    "\\end{bmatrix}\n",
    "\\end{equation}\n",
    "\n",
    "Let \n",
    "\n",
    "\\begin{equation}\n",
    "\\mathbf{\\widetilde{A}} := \n",
    "\\begin{bmatrix}\n",
    "x_{1m1}&x_{1m2}&1\\\\\n",
    "x_{2m1}&x_{2m2}&1\\\\\n",
    "\\vdots&\\vdots&\\vdots\\\\\n",
    "x_{mm1}&x_{mm2}&1\\\\\n",
    "\\end{bmatrix}\n",
    "\\mathbf{\\widetilde{1}}: = \n",
    "\\begin{bmatrix}\n",
    "1\\\\\n",
    "1\\\\\n",
    "\\vdots\\\\\n",
    "1\n",
    "\\end{bmatrix}\n",
    "\\end{equation}\n",
    "\n",
    "Then $\\mathbf{\\widetilde{X}} = \\mathbf{\\widetilde{A}}\\mathbf{w}+\\mathbf{\\widetilde{1}}$\n",
    "\n",
    "Then $$F(\\mathbf{w}) = (\\mathbf{A}\\mathbf{w}-\\mathbf{1})^{T}(\\mathbf{A}\\mathbf{w}-\\mathbf{1})+\n",
    "(\\mathbf{\\widetilde{A}}\\mathbf{w}+\\mathbf{\\widetilde{1}})^{T}(\\mathbf{\\widetilde{A}}\\mathbf{w}+\\mathbf{\\widetilde{1}})$$\n",
    "$$\\nabla F(\\mathbf{w}) = 2\\mathbf{A}^{T}(\\mathbf{A}\\mathbf{w}-\\mathbf{1}) + 2 \\mathbf{\\widetilde{A}}^{T}(\\mathbf{\\widetilde{A}}\\mathbf{w}+\\mathbf{\\widetilde{1}}) $$\n",
    "We use gradient descent to solve this problems"
   ]
  },
  {
   "cell_type": "code",
   "execution_count": 41,
   "metadata": {},
   "outputs": [
    {
     "name": "stdout",
     "output_type": "stream",
     "text": [
      "[ 0.13414641  0.16020865 -0.03974608]\n"
     ]
    }
   ],
   "source": [
    "import numpy as np\n",
    "from numpy import linalg as LA\n",
    "import matplotlib.pyplot as plt\n",
    "from mpl_toolkits.mplot3d import Axes3D\n",
    "from matplotlib import cm\n",
    "# data\n",
    "A1 = np.array([[2,1,1],[3,2,1],[3.5,3,1],[4.5,2.5,1],[4.7,1.5,1],[5,1,1],[8,2,1],[1,6,1],[0.5,5.5,1],[0.2,7,1],[1.5,6.8,1]])\n",
    "A2 = np.array([[-1,-1,1],[-2,-3,1],[-3.5,-2,1],[-4,-1.5,1],[-4.5,-2.5,1],[-8,-2,1]])\n",
    "\n",
    "AA = np.dot(A1.T,A1) + np.dot(A2.T,A2)\n",
    "yy = np.dot(A1.T,A1[:,2]) - np.dot(A2.T, A2[:,2])\n",
    "\n",
    "w = LA.solve(AA,yy)     # the true sloution\n",
    "print(w)"
   ]
  },
  {
   "cell_type": "code",
   "execution_count": 61,
   "metadata": {},
   "outputs": [
    {
     "data": {
      "image/png": "[encoded data removed]",
      "text/plain": [
       "<Figure size 432x288 with 1 Axes>"
      ]
     },
     "metadata": {
      "needs_background": "light"
     },
     "output_type": "display_data"
    }
   ],
   "source": [
    "X = np.arange(-8,8,0.1)\n",
    "Y = -(w[0]/w[1])*X-(w[2]/w[1])\n",
    "\n",
    "#ax = plt.subplot(111, projection='3d')\n",
    "plt.scatter(A1[:,0],A1[:,1],c='r')\n",
    "plt.scatter(A2[:,0],A2[:,1],c='g')\n",
    "plt.plot(X,Y)\n",
    "plt.show()\n",
    "#ax.plot_surface(X,Y,Z, cmap=cm.coolwarm,linewidth=0,antialiased=False)"
   ]
  },
  {
   "cell_type": "code",
   "execution_count": 48,
   "metadata": {},
   "outputs": [],
   "source": [
    "def F(A1,A2,w):\n",
    "    X1 = np.dot(A1,w)-1\n",
    "    X2 = np.dot(A2,w)+1\n",
    "    F = np.dot(X1.T, X1)+ np.dot(X2.T,X2)\n",
    "    return F\n",
    "\n",
    "def DF(A1,A2,w):\n",
    "    X1 = np.dot(A1,w)-1\n",
    "    X2 = np.dot(A2,w)+1\n",
    "    DF = 2* np.dot(A1.T, X1)+2*np.dot(A2.T,X2)\n",
    "    return DF"
   ]
  },
  {
   "cell_type": "code",
   "execution_count": 49,
   "metadata": {},
   "outputs": [],
   "source": [
    "# gradient descent \n",
    "eta = 0.001               # learning rate\n",
    "w1,w2,w0 = 1, 1, 1        # intial parameter\n",
    "epsilon = 0.01             # stop crition\n",
    "\n",
    "# store all the intermediate values during the descents:\n",
    "# w1_val = []\n",
    "# w2_val = []\n",
    "# w0_val = []\n",
    "F_val = [] \n",
    "#DF_val = []\n",
    "k = 0                    # compute the number of descent\n",
    "\n",
    "while LA.norm(DF(A1,A2,np.array([w1,w2,w0]))) > epsilon:\n",
    "    (w1,w2,w0) = np.array([w1,w2,w0]) - eta * DF(A1,A2,np.array([w1,w2,w0]))\n",
    "    # w1_val.append(w1)\n",
    "    # w2_val.append(w2)\n",
    "    # w0_val.append(w0)\n",
    "    F_val.append(F(A1,A2,np.array([w1,w2,w0])))\n",
    "    # DF_val.append(LA.norm(DF(A1,A2,np.array([w1,w2,w0]))))\n",
    "    k = k+1"
   ]
  },
  {
   "cell_type": "code",
   "execution_count": 50,
   "metadata": {},
   "outputs": [
    {
     "name": "stdout",
     "output_type": "stream",
     "text": [
      "The number of the iteration is 288\n",
      "The min of F is 1.5073064085731036 at the parameter (0.13415698771926077, 0.1601547448389182, -0.039382342845273595)\n"
     ]
    },
    {
     "data": {
      "image/png": "[encoded data removed]",
      "text/plain": [
       "<Figure size 432x288 with 1 Axes>"
      ]
     },
     "metadata": {
      "needs_background": "light"
     },
     "output_type": "display_data"
    }
   ],
   "source": [
    "print(\"The number of the iteration is\", k)\n",
    "print(\"The min of F is\", F(A1,A2,np.array([w1,w2,w0])), \"at the parameter\", (w1,w2,w0))\n",
    "plt.plot(range(k), F_val)\n",
    "plt.show()"
   ]
  },
  {
   "cell_type": "code",
   "execution_count": null,
   "metadata": {},
   "outputs": [],
   "source": []
  },
  {
   "cell_type": "markdown",
   "metadata": {},
   "source": [
    "In this problem, I find it is difficult to find a suitable learning rate. If I choose more than 0.0027, this method will not convergence. Since the learning is very small, so the it need many iterations."
   ]
  },
  {
   "cell_type": "markdown",
   "metadata": {},
   "source": [
    "## (2) Logistic regression"
   ]
  },
  {
   "cell_type": "markdown",
   "metadata": {},
   "source": [
    "Suppose the linear boundary is $f(x) = w_{1}x_{1}+w_{2}x_{2}+w_{0}$, and Logistic function $\\sigma (t) = \\frac{1}{1+e^{-t}}$. Logistic is comtine maximum likelihood and use logistic function to defined the probability. We describe the process as following.\n",
    "\n",
    "### Maximum Likelihood\n",
    "+ Given training data $(\\mathbf{x_{j}}, y_{j})$, where $y_{j} \\in \\{1,-1\\}$ for $j = 1,\\cdots, N$\n",
    "\n",
    "+ Find $\\mathbf{w}$ to maxmize $L(\\mathbf{w}) = P(y_{1},y_{2},\\cdots, y_{N} | \\mathbf{x_{1}, x_{2}, \\cdots, x_{N}, w})$. Assume the train data are sample i.i.d:\n",
    "$$P(y_{1},\\cdots, y_{N} | \\mathbf{x_{1}, \\cdots, x_{N}, w}) = \\Pi_{j=1}^{N} P(y_{j}| \\mathbf{x_{j},w})$$\n",
    "where\n",
    "\n",
    "\\begin{equation}\n",
    "P(y_{j}|\\mathbf{x_{j},w})\n",
    "=\n",
    "\\begin{cases}\n",
    "\\sigma(f(x_{j})),  &   y_{j} = 1\\\\\n",
    "1- \\sigma(f(x_{j})),&y_{j} = -1\n",
    "\\end{cases}\n",
    "\\end{equation}\n",
    " + Let $J_{p}$ and $J_{m}$ denote the indices of class 1 and -1 respectively, then the likelihood function can be write as\n",
    "$$L(\\mathbf{w}) = \\Pi_{j\\in J_{p}}\\sigma(f(x_{j}))\\Pi_{j\\in J_{m}}(1-\\sigma(f(x_{j})))$$\n",
    "\n",
    "+ We need to maxmize the likehood function\n",
    "$$\\max_{\\mathbf{w}} \\ L(\\mathbf{w}) = \\max_{\\mathbf{w}}\\Pi_{j\\in J_{p}}\\sigma(f(x_{j}))\\Pi_{j\\in J_{m}}(1-\\sigma(f(x_{j})))$$\n",
    "\n",
    "+ Use the Log instead\n",
    "$$\\max_{\\mathbf{w}} \\ \\sum_{j \\in J_{p}}log(\\sigma(f(x_{j}))) + \\sum_{j\\in J_{m}}log(1-\\sigma(f(x_{j})))$$\n",
    "\n",
    "+ Convert to minimization\n",
    "$$\\min_{\\mathbf{w}} \\mathcal{l} = \\min_{\\mathbf{w}} \\ \\sum_{j \\in J_{p}} - log(\\sigma(f(x_{j}))) + \\sum_{j\\in J_{m}} - log(1-\\sigma(f(x_{j}))) $$\n",
    "\n",
    "We use gradient descent to find the minimizer.\n",
    "\n",
    "### Gradient Descent\n",
    "+ Gradient descent $w^{n+1} = w^{n} - \\eta \\nabla \\mathcal{l}(w^{n}) $\n",
    "\n",
    "+ Compute the gradient \n",
    "\n",
    "\\begin{equation}\n",
    "\\nabla \\mathcal{l}(\\mathbf{w}) = \\sum_{j=1}^{N} \\sigma(f(x_{j}))\n",
    "\\begin{bmatrix}\n",
    "\\mathbf{x_{j}}\\\\1\n",
    "\\end{bmatrix}\n",
    "-\n",
    "\\sum_{j\\in J_{p}}\n",
    "\\begin{bmatrix}\n",
    "\\mathbf{x_{j}}\\\\1\n",
    "\\end{bmatrix}\n",
    "\\end{equation}\n",
    "+ A compact form\n",
    "\\begin{align*}\n",
    "\\nabla \\mathcal{l}(\\mathbf{w}) &= \\sum_{j=1}^{N}[\\sigma(f(x_{j}))-\\frac{y_{j}+1}{2}]\n",
    "\\begin{bmatrix}\n",
    "\\mathbf{x_{j}}\\\\1\n",
    "\\end{bmatrix}\n",
    "\\\\\n",
    "&=\\mathbf{A(u-v)}\n",
    "\\end{align*}\n"
   ]
  },
  {
   "cell_type": "markdown",
   "metadata": {},
   "source": [
    "where \n",
    "\\begin{align*}\n",
    "\\mathbf{A} :=\n",
    "\\begin{bmatrix}\n",
    "\\mathbf{x_{1}} & \\cdots & \\mathbf{x_{N}}\\\\\n",
    "1& \\cdots & 1\n",
    "\\end{bmatrix}\n",
    "\\mathbf{u}:=\n",
    "\\begin{bmatrix}\n",
    "\\sigma(f(x_{1}))\\\\\n",
    "\\vdots\\\\\n",
    "\\sigma(f(x_{N}))\n",
    "\\end{bmatrix}\n",
    "\\mathbf{v}:=\n",
    "\\begin{bmatrix}\n",
    "\\frac{y_{1}+1}{2}\\\\\n",
    "\\vdots\\\\\n",
    "\\frac{y_{N}+1}{2}\n",
    "\\end{bmatrix}\n",
    "\\end{align*}"
   ]
  },
  {
   "cell_type": "code",
   "execution_count": 51,
   "metadata": {},
   "outputs": [],
   "source": [
    "# data \n",
    "A1 = np.array([[2,1,1],[3,2,1],[3.5,3,1],[4.5,2.5,1],[4.7,1.5,1],[5,1,1],[8,2,1],[1,6,1],[0.5,5.5,1],[0.2,7,1],[1.5,6.8,1]])\n",
    "A2 = np.array([[-1,-1,-1],[-2,-3,-1],[-3.5,-2,-1],[-4,-1.5,-1],[-4.5,-2.5,-1],[-8,-2,-1]])\n",
    "m = np.shape(A1)[0]\n",
    "n = np.shape(A2)[0]\n",
    "A = np.block([[A1[:,0:2].T,A2[:,0:2].T], [np.ones(n), np.ones(m)]])\n",
    "y = np.block([A1[:,2], A2[:,2]])\n",
    "v = (y + 1)/2\n",
    "\n",
    "#logistic function\n",
    "def sigma(x):\n",
    "    sigma_x = 1/(1+np.exp(-x))\n",
    "    return sigma_x\n",
    "#boundary\n",
    "def f(w1,w2,w0,x1,x2):\n",
    "    fx = w1*x1+w2*x2+w0\n",
    "    return fx\n",
    "\n",
    "# likelihood function\n",
    "def L(w1,w2,w0,A1,A2):\n",
    "    l1 = - np.log(sigma(f(w1,w2,w0,A1[0,:],A1[1,:])))\n",
    "    l2 = - np.log(1 - sigma(f(w1, w2, w0, A2[0,:], A2[1,:])))\n",
    "    Lx = np.sum(l1) + np.sum(l2)\n",
    "    return Lx\n",
    "# u\n",
    "def u(w1,w2,w0,A):\n",
    "    ux = sigma(f(w1,w2,w0,A[0,:],A[1,:]))\n",
    "    return ux\n",
    "# gradient\n",
    "def dl(A, v, u):\n",
    "    dlx = np.dot(A, u-v)\n",
    "    return dlx"
   ]
  },
  {
   "cell_type": "code",
   "execution_count": 52,
   "metadata": {},
   "outputs": [
    {
     "data": {
      "text/plain": [
       "array([1., 1., 1., 1., 1., 1., 1., 1., 1., 1., 1., 0., 0., 0., 0., 0., 0.])"
      ]
     },
     "execution_count": 52,
     "metadata": {},
     "output_type": "execute_result"
    }
   ],
   "source": [
    "v"
   ]
  },
  {
   "cell_type": "code",
   "execution_count": 65,
   "metadata": {},
   "outputs": [
    {
     "name": "stdout",
     "output_type": "stream",
     "text": [
      "The number of the iteration is 50000\n",
      "The min of L is 0.005510194638042112 at the parameter (3.4704306149359243, 2.9512493019316177, -1.0572948869868222)\n"
     ]
    },
    {
     "data": {
      "image/png": "[encoded data removed]",
      "text/plain": [
       "<Figure size 432x288 with 1 Axes>"
      ]
     },
     "metadata": {
      "needs_background": "light"
     },
     "output_type": "display_data"
    }
   ],
   "source": [
    "# Gradient Descent\n",
    "eta = 0.01          # learning rate\n",
    "w1,w2,w0 = 0, 0, 0  # initial parameter\n",
    "epsion = 0.0001       # stop criterion\n",
    "\n",
    "# store all the intermediate values during the descents:\n",
    "L_val = [] \n",
    "k = 0                    # compute the number of descent\n",
    "ux = u(w1,w2,w0,A)\n",
    "while LA.norm(dl(A,v,ux)) > epsion :    \n",
    "    # print(w1,w2,w0)\n",
    "    # print(dl(A,v,ux))\n",
    "    (w1,w2,w0) = np.array([w1,w2,w0]) - eta * dl(A,v,ux)\n",
    "    L_val.append(L(w1,w2,w0,A1,A2))\n",
    "    # dl_val.append(LA.norm(dl(A,v,ux)))\n",
    "    ux = u(w1,w2,w0,A)\n",
    "    k = k+1\n",
    "    if k == 50000:\n",
    "        break\n",
    "print(\"The number of the iteration is\", k)\n",
    "print(\"The min of L is\", L(w1,w2,w0,A1,A2), \"at the parameter\", (w1,w2,w0))\n",
    "plt.plot(range(k), L_val)\n",
    "plt.show()"
   ]
  },
  {
   "cell_type": "code",
   "execution_count": 66,
   "metadata": {},
   "outputs": [
    {
     "data": {
      "image/png": "[encoded data removed]",
      "text/plain": [
       "<Figure size 432x288 with 1 Axes>"
      ]
     },
     "metadata": {
      "needs_background": "light"
     },
     "output_type": "display_data"
    }
   ],
   "source": [
    "X = np.arange(-8,8,0.1)\n",
    "Y = -(w1/w2)*X-(w0/w2)\n",
    "#ax = plt.subplot(111, projection='3d')\n",
    "plt.scatter(A1[:,0],A1[:,1],c='r')\n",
    "plt.scatter(A2[:,0],A2[:,1],c='g')\n",
    "plt.plot(X,Y)\n",
    "plt.show()"
   ]
  },
  {
   "cell_type": "code",
   "execution_count": null,
   "metadata": {},
   "outputs": [],
   "source": []
  },
  {
   "cell_type": "code",
   "execution_count": null,
   "metadata": {},
   "outputs": [],
   "source": []
  },
  {
   "cell_type": "code",
   "execution_count": null,
   "metadata": {},
   "outputs": [],
   "source": []
  },
  {
   "cell_type": "code",
   "execution_count": null,
   "metadata": {},
   "outputs": [],
   "source": []
  },
  {
   "cell_type": "code",
   "execution_count": null,
   "metadata": {},
   "outputs": [],
   "source": []
  },
  {
   "cell_type": "code",
   "execution_count": null,
   "metadata": {},
   "outputs": [],
   "source": []
  },
  {
   "cell_type": "code",
   "execution_count": null,
   "metadata": {},
   "outputs": [],
   "source": []
  },
  {
   "cell_type": "code",
   "execution_count": null,
   "metadata": {},
   "outputs": [],
   "source": []
  },
  {
   "cell_type": "code",
   "execution_count": null,
   "metadata": {},
   "outputs": [],
   "source": []
  },
  {
   "cell_type": "code",
   "execution_count": null,
   "metadata": {},
   "outputs": [],
   "source": []
  }
 ],
 "metadata": {
  "kernelspec": {
   "display_name": "Python 3",
   "language": "python",
   "name": "python3"
  },
  "language_info": {
   "codemirror_mode": {
    "name": "ipython",
    "version": 3
   },
   "file_extension": ".py",
   "mimetype": "text/x-python",
   "name": "python",
   "nbconvert_exporter": "python",
   "pygments_lexer": "ipython3",
   "version": "3.7.3"
  },
  "widgets": {
   "application/vnd.jupyter.widget-state+json": {
    "state": {},
    "version_major": 2,
    "version_minor": 0
   }
  }
 },
 "nbformat": 4,
 "nbformat_minor": 2
}

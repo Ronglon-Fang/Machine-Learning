{
 "cells": [
  {
   "cell_type": "markdown",
   "metadata": {},
   "source": [
    "# Object (variable) Method (function)\n",
    "\n",
    "**We will show how to use classes and methods in Python to make the codes more elegant and easier to read.**"
   ]
  },
  {
   "cell_type": "markdown",
   "metadata": {},
   "source": [
    "The main idea of classes is that sometimes you want to put various pieces of data, and functions that manipulate the data in one place. The functions are called methods of the class.\n",
    "\n",
    "For example, a vector in $\\mathbb{R}^3$ is represented by three floats. So why not make a new data type that contains three floats and call it a vector?\n",
    "\n",
    "Actually, let's make a list of all the things we know we can do to vectors in $\\mathbb{R}^3$. We can:\n",
    "\n",
    "- Have x, y, z variables for the three coordinates,\n",
    "- take the length of a vector (a.k.a., 2-norm),\n",
    "- we can normalize the vector, meaning we can divide it by the norm so that it now has the same direction but has length 1,\n",
    "- take dot product of two vectors, i.e. take $(x_1,y_1,z_1)\\cdot(x_2,y_2,z_2)=x_1x_2+y_1y_2+z_1z_2$,\n",
    "- add vectors,\n",
    "- multiply a vector by a scalar\n",
    "- take cross product of two vectors\n",
    "\n",
    "We will make a new type of object in Python, called Vector, that allows us to do all of these things."
   ]
  },
  {
   "cell_type": "code",
   "execution_count": 43,
   "metadata": {},
   "outputs": [],
   "source": [
    "import math \n",
    "# it is always a good habit to import module outside a function or a class\n",
    "class Vector():\n",
    "    \n",
    "    # initialize the vector, we will say   \n",
    "    # v = Vector(1,2,3)\n",
    "    # to get a new vector with those coordinated\n",
    "    def __init__(self, xx, yy, zz): # __init__() is initialization\n",
    "        # self is refering to an obj in this class\n",
    "        # xx, yy, zz are the input the user gives\n",
    "        self.x = xx\n",
    "        self.y = yy\n",
    "        self.z = zz\n",
    "    \n",
    "    # compute the norm\n",
    "    def norm(self):\n",
    "        return math.sqrt(self.x*self.x + self.y*self.y + self.z*self.z)\n",
    "\n",
    "    # divide by the norm\n",
    "    def normalize(self): \n",
    "        # this returns the unit vector in the same direction with a Vector obj\n",
    "        # if a function/method has only self as input inside\n",
    "        # the class definition, in executing this function outside\n",
    "        # input can be left empty\n",
    "        no = self.norm()\n",
    "        self.x /= no # self.x = self.x/no\n",
    "        self.y /= no\n",
    "        self.z /= no    \n",
    "\n",
    "# note that every function has self in it, so that it can access the information of the class"
   ]
  },
  {
   "cell_type": "markdown",
   "metadata": {},
   "source": [
    "The `class` specifies what constitutes an object (the variables in it, which are all the variables that appear as self.---), and the functions that can be used. To create an object of the class, a.k.a. an instance of the class, we need to call the name of the class as if it's a function."
   ]
  },
  {
   "cell_type": "code",
   "execution_count": 44,
   "metadata": {},
   "outputs": [],
   "source": [
    "v=Vector(1,2,5)\n",
    "# the arguments of this call must match the arguments of the __init__ \n",
    "# function in the class, except the self part"
   ]
  },
  {
   "cell_type": "code",
   "execution_count": 45,
   "metadata": {},
   "outputs": [
    {
     "data": {
      "text/plain": [
       "1"
      ]
     },
     "execution_count": 45,
     "metadata": {},
     "output_type": "execute_result"
    }
   ],
   "source": [
    "v.x"
   ]
  },
  {
   "cell_type": "code",
   "execution_count": 46,
   "metadata": {},
   "outputs": [
    {
     "data": {
      "text/plain": [
       "5.477225575051661"
      ]
     },
     "execution_count": 46,
     "metadata": {},
     "output_type": "execute_result"
    }
   ],
   "source": [
    "v.norm()"
   ]
  },
  {
   "cell_type": "code",
   "execution_count": 47,
   "metadata": {},
   "outputs": [],
   "source": [
    "v.normalize()"
   ]
  },
  {
   "cell_type": "code",
   "execution_count": 48,
   "metadata": {},
   "outputs": [
    {
     "data": {
      "text/plain": [
       "0.18257418583505536"
      ]
     },
     "execution_count": 48,
     "metadata": {},
     "output_type": "execute_result"
    }
   ],
   "source": [
    "v.x"
   ]
  },
  {
   "cell_type": "code",
   "execution_count": 49,
   "metadata": {},
   "outputs": [
    {
     "data": {
      "text/plain": [
       "1.0"
      ]
     },
     "execution_count": 49,
     "metadata": {},
     "output_type": "execute_result"
    }
   ],
   "source": [
    "v.norm()"
   ]
  },
  {
   "cell_type": "code",
   "execution_count": 50,
   "metadata": {},
   "outputs": [
    {
     "name": "stdout",
     "output_type": "stream",
     "text": [
      "<__main__.Vector object at 0x00000253800CA048>\n"
     ]
    }
   ],
   "source": [
    "print(v)"
   ]
  },
  {
   "cell_type": "markdown",
   "metadata": {},
   "source": [
    "`print` gives us something that tells you that v is a vector at some memory location. Whenever we invoke Python's `print` command, it first applies the Python `repr` function to the item you are printing. The `repr` returns a string containing a printable version of the object you are printing. We can customize this behavior by adding the `__repr__(self)` function in this class."
   ]
  },
  {
   "cell_type": "code",
   "execution_count": 1,
   "metadata": {},
   "outputs": [],
   "source": [
    "import math\n",
    "class Vector():\n",
    "    \n",
    "    def __init__(self, xx, yy, zz):\n",
    "        self.x = xx\n",
    "        self.y = yy\n",
    "        self.z = zz\n",
    "    \n",
    "    def norm(self):\n",
    "        return math.sqrt(self.x*self.x + self.y*self.y + self.z*self.z)\n",
    "\n",
    "    def normalize(self):\n",
    "        no = self.norm()\n",
    "        self.x /= no\n",
    "        self.y /= no\n",
    "        self.z /= no    \n",
    "    \n",
    "    def __repr__(self):\n",
    "        # return \"<\" + str(self.x)[:5] + \" , \" + str(self.y)[:5] + \" , \" + str(self.z)[:5] + \">\"\n",
    "        return \"(\" + str(self.x) + \" , \" + str(self.y) + \" , \" + str(self.z) + \")\"\n",
    "# note that every function has self in it, so that it can access the information of the class"
   ]
  },
  {
   "cell_type": "code",
   "execution_count": 2,
   "metadata": {},
   "outputs": [
    {
     "data": {
      "text/plain": [
       "1"
      ]
     },
     "execution_count": 2,
     "metadata": {},
     "output_type": "execute_result"
    }
   ],
   "source": [
    "v=Vector(1,3,5)\n",
    "v.x"
   ]
  },
  {
   "cell_type": "code",
   "execution_count": 53,
   "metadata": {},
   "outputs": [
    {
     "name": "stdout",
     "output_type": "stream",
     "text": [
      "(1 , 3 , 5)\n"
     ]
    }
   ],
   "source": [
    "print(v)"
   ]
  },
  {
   "cell_type": "markdown",
   "metadata": {},
   "source": [
    "Let's also add dot products, scalar multiplication:"
   ]
  },
  {
   "cell_type": "code",
   "execution_count": 54,
   "metadata": {},
   "outputs": [],
   "source": [
    "import math\n",
    "class Vector():\n",
    "    \n",
    "    def __init__(self, xx, yy, zz):\n",
    "        self.x = xx\n",
    "        self.y = yy\n",
    "        self.z = zz\n",
    "    \n",
    "    def norm(self):\n",
    "        return math.sqrt(self.x*self.x + self.y*self.y + self.z*self.z)\n",
    "\n",
    "    def normalize(self):\n",
    "        no = self.norm()\n",
    "        self.x /= no\n",
    "        self.y /= no\n",
    "        self.z /= no    \n",
    "    \n",
    "    def __repr__(self):\n",
    "        return \"(\" + str(self.x) + \" , \" + str(self.y) + \" , \" + str(self.z) + \")\"\n",
    "    \n",
    "    def dot(self, w):\n",
    "        # dot function's syntax will be v.dot(w)\n",
    "        return self.x * w.x + self.y * w.y + self.z * w.z\n",
    "    \n",
    "    # returns a new vector without modifying the original\n",
    "    def times_scalar(self, alpha):\n",
    "        return Vector(alpha * self.x, alpha * self.y, alpha * self.z)\n",
    "#         return (alpha * self.x, alpha * self.y, alpha * self.z) \n",
    "        # this does not return to an obj in the original class\n",
    "        \n",
    "# note that every function has self in it, so that it can access the information of the class"
   ]
  },
  {
   "cell_type": "code",
   "execution_count": 55,
   "metadata": {},
   "outputs": [],
   "source": [
    "u=Vector(1,3,5)\n",
    "v=Vector(2,4,6)"
   ]
  },
  {
   "cell_type": "code",
   "execution_count": 56,
   "metadata": {},
   "outputs": [
    {
     "data": {
      "text/plain": [
       "44"
      ]
     },
     "execution_count": 56,
     "metadata": {},
     "output_type": "execute_result"
    }
   ],
   "source": [
    "u.dot(v)"
   ]
  },
  {
   "cell_type": "code",
   "execution_count": 57,
   "metadata": {},
   "outputs": [
    {
     "data": {
      "text/plain": [
       "(2 , 6 , 10)"
      ]
     },
     "execution_count": 57,
     "metadata": {},
     "output_type": "execute_result"
    }
   ],
   "source": [
    "u.times_scalar(2)"
   ]
  },
  {
   "cell_type": "markdown",
   "metadata": {},
   "source": [
    "We can also write addition of vectors, we could write `add(self,w)` in the class and use `v.add(w)` to add `v` and `w`, but we could also overload the `+` operator as follows:"
   ]
  },
  {
   "cell_type": "code",
   "execution_count": 58,
   "metadata": {},
   "outputs": [],
   "source": [
    "import math\n",
    "class Vector():\n",
    "    \n",
    "    def __init__(self, xx, yy, zz):\n",
    "        self.x = xx\n",
    "        self.y = yy\n",
    "        self.z = zz\n",
    "    \n",
    "    def norm(self):\n",
    "        return math.sqrt(self.x*self.x + self.y*self.y + self.z*self.z)\n",
    "\n",
    "    def normalize(self):\n",
    "        no = self.norm()\n",
    "        self.x /= no\n",
    "        self.y /= no\n",
    "        self.z /= no    \n",
    "    \n",
    "    def __repr__(self):\n",
    "        return \"(\" + str(self.x) + \" , \" + str(self.y) + \" , \" + str(self.z) + \")\"\n",
    "    \n",
    "    def dot(self, w):\n",
    "        # dot function's syntax will be v.dot(w)\n",
    "        return self.x * w.x + self.y * w.y + self.z * w.z\n",
    "    \n",
    "    # returns a new vector without modifying the original\n",
    "    def times_scalar(self, alpha):\n",
    "        return Vector(alpha * self.x, alpha * self.y, alpha * self.z)\n",
    "#         return (alpha * self.x, alpha * self.y, alpha * self.z) \n",
    "        # this does not return to an obj in the original class\n",
    "    \n",
    "    def __add__(self, w):\n",
    "        # this function extends the built-in + for Vector class\n",
    "        return Vector(self.x + w.x, self.y + w.y, self.z + w.z)\n",
    "\n",
    "    def __sub__(self, w):\n",
    "        # this function extends the built-in + for Vector class\n",
    "        return Vector(self.x - w.x, self.y - w.y, self.z - w.z)\n",
    "        \n",
    "    def __mul__(self, w):\n",
    "        # this function extends the built-in + for Vector class\n",
    "        return Vector(self.x * w.x, self.y * w.y, self.z * w.z)\n",
    "    \n",
    "# note that every function has self in it, so that it can access the information of the class"
   ]
  },
  {
   "cell_type": "code",
   "execution_count": 59,
   "metadata": {},
   "outputs": [],
   "source": [
    "u=Vector(1,3,5)\n",
    "v=Vector(2,4,6)"
   ]
  },
  {
   "cell_type": "code",
   "execution_count": 60,
   "metadata": {},
   "outputs": [
    {
     "data": {
      "text/plain": [
       "(3 , 7 , 11)"
      ]
     },
     "execution_count": 60,
     "metadata": {},
     "output_type": "execute_result"
    }
   ],
   "source": [
    "u+v"
   ]
  },
  {
   "cell_type": "code",
   "execution_count": 61,
   "metadata": {},
   "outputs": [
    {
     "data": {
      "text/plain": [
       "(-1 , -1 , -1)"
      ]
     },
     "execution_count": 61,
     "metadata": {},
     "output_type": "execute_result"
    }
   ],
   "source": [
    "u-v"
   ]
  },
  {
   "cell_type": "code",
   "execution_count": 62,
   "metadata": {},
   "outputs": [
    {
     "data": {
      "text/plain": [
       "(2 , 12 , 30)"
      ]
     },
     "execution_count": 62,
     "metadata": {},
     "output_type": "execute_result"
    }
   ],
   "source": [
    "u*v"
   ]
  },
  {
   "cell_type": "markdown",
   "metadata": {},
   "source": [
    "## Logistic Regression\n",
    "\n",
    "We will write a class for Logistic regression and define methods train and predict for it.\n",
    "\n",
    "**Model**: \n",
    "$$\n",
    "\\min_{W}\\ell(W)= \\sum_{j=1}^N\\sum_{j=1}^L -y_{n,j} \\ln p_{n,j} + \\mu \\|W\\|^2,\n",
    "$$\n",
    "where $p_{n,j}=P(c_j|x_n)=\\frac{\\exp(f_j(x_n))}{\\sum_{l=1}^L \\exp(f_l(x_n))}$, for $1\\leq j\\leq L$ and $1\\leq n\\leq N$, and $f_l(x)=w_l^T \\tilde{x}$.\n",
    "\n",
    "**Gradient**:\n",
    "\\begin{align*}\n",
    "\\nabla \\ell(W) = (P-Y)^TX + 2\\mu W,\n",
    "\\end{align*}\n",
    "where $W=\\begin{pmatrix} w_1^T \\\\ \\vdots \\\\ w_L^T \\end{pmatrix}$, $X=\\begin{pmatrix}\\tilde{x}^T_1\\\\ \\vdots\\\\ \\tilde{x}^T_N \\end{pmatrix}$, $P=[p_{n,j}]_{n=1,j=1}^{N,L}$ and $Y=\\begin{pmatrix} y_1^T\\\\ \\vdots \\\\ y_N^T \\end{pmatrix}$"
   ]
  },
  {
   "cell_type": "code",
   "execution_count": 76,
   "metadata": {},
   "outputs": [],
   "source": [
    "import numpy as np\n",
    "\n",
    "class Logistic:\n",
    "    \n",
    "    def _init_(self,w):\n",
    "        self.W=None # set up the weight matrix\n",
    "        \n",
    "    def train(self, training_input, training_output, num_iters, learning_rate, reg_par, verbose=True):\n",
    "        \"\"\"\n",
    "        Train Logistic regression classifier using gradient descent method\n",
    "\n",
    "        Parameters\n",
    "        ----------\n",
    "        X: (N x D) array of training data, each row is a training sample with D-dimension.\n",
    "        y: (N, ) 1-dimension array of target data with length N.\n",
    "        learning_rate: (float) learning rate for optimization.\n",
    "        reg: (float) regularization parameter for optimization.\n",
    "        num_iters: (integer) number of steps to take when optimization.\n",
    "        verbose: (boolean) if True, print out the progress (loss) when optimization.\n",
    "\n",
    "        Returns\n",
    "        -------\n",
    "        losses_history: (list) of losses at each training iteration\n",
    "        \"\"\"\n",
    "        \n",
    "        \n",
    "        X=training_input\n",
    "        num_train,dim = X.shape\n",
    "        \n",
    "        X=np.hstack((np.ones([num_train,1]),X))# add a column of all ones to the training data\n",
    "        dim=dim+1\n",
    "        \n",
    "        y=training_output  # assume y takes values 0...L-1 where L is number of classes\n",
    "        num_classes = int(np.max(y)) + 1\n",
    "        \n",
    "        # convert the labels into vectorized labels\n",
    "        Y=np.zeros([num_train,num_classes])\n",
    "        for i in range(num_train):\n",
    "            Y[i,:]=np.eye(num_classes)[int(y[i]),:]\n",
    "        \n",
    "        if self.W is None:\n",
    "            self.W=np.zeros([num_classes,dim]) # set the initial values of the coefficient matrix\n",
    "        \n",
    "        losses_history = []\n",
    "        \n",
    "        for i in range(num_iters):\n",
    "            # compute the matrix P\n",
    "            P=np.zeros([num_train, num_classes])\n",
    "            for j in range(num_train):\n",
    "                P[j, :]=np.exp(self.W@X[j,:])/np.sum(np.exp(self.W@X[j,:]))\n",
    "            \n",
    "            # update W with gradient descent\n",
    "            grad=(P-Y).T@X + 2*reg_par*self.W\n",
    "            self.W= self.W - learning_rate*grad\n",
    "            \n",
    "            # compute the loss function\n",
    "            loss=np.sum(-Y*np.log(P)) + reg_par*np.linalg.norm(self.W)**2\n",
    "            losses_history.append(loss)\n",
    "            \n",
    "            if verbose and (i % 100 == 0):\n",
    "                print('iteration %d/%d: loss %f' % (i, num_iters, loss))\n",
    "\n",
    "        return losses_history\n",
    "    \n",
    "    \n",
    "    def predict(self, testing_input):\n",
    "        \"\"\"\n",
    "        Predict value of y using trained weights\n",
    "\n",
    "        Parameters\n",
    "        ----------\n",
    "        X: (N x D) array of data, each column is a sample with D-dimension.\n",
    "\n",
    "        Returns\n",
    "        -------\n",
    "        pred_ys: (N, ) 1-dimension array of y for N sampels\n",
    "        \"\"\"\n",
    "        \n",
    "        X=testing_input\n",
    "        num_test,dim = X.shape\n",
    "        \n",
    "        X=np.hstack((np.ones([num_test,1]),X))# add a column of all ones to the training data\n",
    "        dim=dim+1\n",
    "        \n",
    "        pred_ys = np.zeros(num_test)\n",
    "        scores = X@(self.W.T)\n",
    "        pred_ys = np.argmax(scores, axis=1)\n",
    "        \n",
    "        return pred_ys\n",
    "    \n",
    "    \n",
    "            \n",
    "    "
   ]
  },
  {
   "cell_type": "code",
   "execution_count": 79,
   "metadata": {},
   "outputs": [
    {
     "name": "stdout",
     "output_type": "stream",
     "text": [
      "Help on class Logistic in module __main__:\n",
      "\n",
      "class Logistic(builtins.object)\n",
      " |  Methods defined here:\n",
      " |  \n",
      " |  predict(self, testing_input)\n",
      " |      Predict value of y using trained weights\n",
      " |      \n",
      " |      Parameters\n",
      " |      ----------\n",
      " |      X: (N x D) array of data, each column is a sample with D-dimension.\n",
      " |      \n",
      " |      Returns\n",
      " |      -------\n",
      " |      pred_ys: (N, ) 1-dimension array of y for N sampels\n",
      " |  \n",
      " |  train(self, training_input, training_output, num_iters, learning_rate, reg_par, verbose=True)\n",
      " |      Train Logistic regression classifier using gradient descent method\n",
      " |      \n",
      " |      Parameters\n",
      " |      ----------\n",
      " |      X: (N x D) array of training data, each row is a training sample with D-dimension.\n",
      " |      y: (N, ) 1-dimension array of target data with length N.\n",
      " |      learning_rate: (float) learning rate for optimization.\n",
      " |      reg: (float) regularization parameter for optimization.\n",
      " |      num_iters: (integer) number of steps to take when optimization.\n",
      " |      verbose: (boolean) if True, print out the progress (loss) when optimization.\n",
      " |      \n",
      " |      Returns\n",
      " |      -------\n",
      " |      losses_history: (list) of losses at each training iteration\n",
      " |  \n",
      " |  ----------------------------------------------------------------------\n",
      " |  Data descriptors defined here:\n",
      " |  \n",
      " |  __dict__\n",
      " |      dictionary for instance variables (if defined)\n",
      " |  \n",
      " |  __weakref__\n",
      " |      list of weak references to the object (if defined)\n",
      "\n"
     ]
    }
   ],
   "source": [
    "Log = Logistic\n",
    "#Log.w\n",
    "help(Logistic)"
   ]
  },
  {
   "cell_type": "markdown",
   "metadata": {},
   "source": [
    "### Test the Logistic class with some simulation data "
   ]
  },
  {
   "cell_type": "code",
   "execution_count": 74,
   "metadata": {},
   "outputs": [
    {
     "data": {
      "image/png": "[encoded data removed]",
      "text/plain": [
       "<Figure size 576x432 with 1 Axes>"
      ]
     },
     "metadata": {
      "needs_background": "light"
     },
     "output_type": "display_data"
    }
   ],
   "source": [
    "# Generate some simulation data\n",
    "from sklearn.datasets.samples_generator import make_blobs\n",
    "X, y_true = make_blobs(n_samples=400, centers=4,\n",
    "                       cluster_std=0.60, random_state=0)\n",
    "X = X[:, ::-1] # flip axes for better plotting\n",
    "\n",
    "%matplotlib inline\n",
    "import matplotlib.pyplot as plt\n",
    "\n",
    "plt.figure(figsize=(8, 6))\n",
    "ax=plt.subplot(111)\n",
    "ax.axis('equal')\n",
    "ax.scatter(X[:, 0], X[:, 1], c=y_true, s=40, cmap='viridis');"
   ]
  },
  {
   "cell_type": "code",
   "execution_count": 65,
   "metadata": {},
   "outputs": [
    {
     "data": {
      "text/plain": [
       "(400, 2)"
      ]
     },
     "execution_count": 65,
     "metadata": {},
     "output_type": "execute_result"
    }
   ],
   "source": [
    "X.shape"
   ]
  },
  {
   "cell_type": "markdown",
   "metadata": {},
   "source": [
    "### Suppose we only use part of the labels and the other part as unlabeled data. We will use self training to solve the semi-supervised learning problem"
   ]
  },
  {
   "cell_type": "code",
   "execution_count": 66,
   "metadata": {},
   "outputs": [],
   "source": [
    "num_lab=25\n",
    "lab_id = np.random.choice(len(X), num_lab)\n",
    "unlab_id=[i for i in range(len(X)) if i not in lab_id]\n",
    "Xl=X[lab_id]\n",
    "yl=y_true[lab_id]\n",
    "\n",
    "\n",
    "Xu=X[unlab_id]\n",
    "yu_t=y_true[unlab_id]"
   ]
  },
  {
   "cell_type": "code",
   "execution_count": 67,
   "metadata": {},
   "outputs": [
    {
     "ename": "AttributeError",
     "evalue": "'Logistic' object has no attribute 'W'",
     "output_type": "error",
     "traceback": [
      "\u001b[1;31m---------------------------------------------------------------------------\u001b[0m",
      "\u001b[1;31mAttributeError\u001b[0m                            Traceback (most recent call last)",
      "\u001b[1;32m<ipython-input-67-4a24a3d7dfdb>\u001b[0m in \u001b[0;36m<module>\u001b[1;34m\u001b[0m\n\u001b[0;32m      1\u001b[0m \u001b[0mmodel\u001b[0m\u001b[1;33m=\u001b[0m\u001b[0mLogistic\u001b[0m\u001b[1;33m(\u001b[0m\u001b[1;33m)\u001b[0m\u001b[1;33m\u001b[0m\u001b[1;33m\u001b[0m\u001b[0m\n\u001b[1;32m----> 2\u001b[1;33m \u001b[0mloss\u001b[0m\u001b[1;33m=\u001b[0m\u001b[0mmodel\u001b[0m\u001b[1;33m.\u001b[0m\u001b[0mtrain\u001b[0m\u001b[1;33m(\u001b[0m\u001b[0mXl\u001b[0m\u001b[1;33m,\u001b[0m \u001b[0myl\u001b[0m\u001b[1;33m,\u001b[0m \u001b[1;36m2000\u001b[0m\u001b[1;33m,\u001b[0m \u001b[1;36m1.E-4\u001b[0m\u001b[1;33m,\u001b[0m \u001b[1;36m1.E-3\u001b[0m\u001b[1;33m,\u001b[0m \u001b[1;32mTrue\u001b[0m\u001b[1;33m)\u001b[0m\u001b[1;33m\u001b[0m\u001b[1;33m\u001b[0m\u001b[0m\n\u001b[0m",
      "\u001b[1;32m<ipython-input-63-9bfb92b17cde>\u001b[0m in \u001b[0;36mtrain\u001b[1;34m(self, training_input, training_output, num_iters, learning_rate, reg_par, verbose)\u001b[0m\n\u001b[0;32m     39\u001b[0m             \u001b[0mY\u001b[0m\u001b[1;33m[\u001b[0m\u001b[0mi\u001b[0m\u001b[1;33m,\u001b[0m\u001b[1;33m:\u001b[0m\u001b[1;33m]\u001b[0m\u001b[1;33m=\u001b[0m\u001b[0mnp\u001b[0m\u001b[1;33m.\u001b[0m\u001b[0meye\u001b[0m\u001b[1;33m(\u001b[0m\u001b[0mnum_classes\u001b[0m\u001b[1;33m)\u001b[0m\u001b[1;33m[\u001b[0m\u001b[0mint\u001b[0m\u001b[1;33m(\u001b[0m\u001b[0my\u001b[0m\u001b[1;33m[\u001b[0m\u001b[0mi\u001b[0m\u001b[1;33m]\u001b[0m\u001b[1;33m)\u001b[0m\u001b[1;33m,\u001b[0m\u001b[1;33m:\u001b[0m\u001b[1;33m]\u001b[0m\u001b[1;33m\u001b[0m\u001b[1;33m\u001b[0m\u001b[0m\n\u001b[0;32m     40\u001b[0m \u001b[1;33m\u001b[0m\u001b[0m\n\u001b[1;32m---> 41\u001b[1;33m         \u001b[1;32mif\u001b[0m \u001b[0mself\u001b[0m\u001b[1;33m.\u001b[0m\u001b[0mW\u001b[0m \u001b[1;32mis\u001b[0m \u001b[1;32mNone\u001b[0m\u001b[1;33m:\u001b[0m\u001b[1;33m\u001b[0m\u001b[1;33m\u001b[0m\u001b[0m\n\u001b[0m\u001b[0;32m     42\u001b[0m             \u001b[0mself\u001b[0m\u001b[1;33m.\u001b[0m\u001b[0mW\u001b[0m\u001b[1;33m=\u001b[0m\u001b[0mnp\u001b[0m\u001b[1;33m.\u001b[0m\u001b[0mzeros\u001b[0m\u001b[1;33m(\u001b[0m\u001b[1;33m[\u001b[0m\u001b[0mnum_classes\u001b[0m\u001b[1;33m,\u001b[0m\u001b[0mdim\u001b[0m\u001b[1;33m]\u001b[0m\u001b[1;33m)\u001b[0m \u001b[1;31m# set the initial values of the coefficient matrix\u001b[0m\u001b[1;33m\u001b[0m\u001b[1;33m\u001b[0m\u001b[0m\n\u001b[0;32m     43\u001b[0m \u001b[1;33m\u001b[0m\u001b[0m\n",
      "\u001b[1;31mAttributeError\u001b[0m: 'Logistic' object has no attribute 'W'"
     ]
    }
   ],
   "source": [
    "model=Logistic()\n",
    "loss=model.train(Xl, yl, 2000, 1.E-4, 1.E-3, True)"
   ]
  },
  {
   "cell_type": "code",
   "execution_count": null,
   "metadata": {},
   "outputs": [],
   "source": [
    "yu=model.predict(Xu)\n",
    "sum(yu==yu_t)/len(yu)"
   ]
  },
  {
   "cell_type": "markdown",
   "metadata": {},
   "source": [
    "### self training: find the pseudo labels for unlabeled data and retrain with both pseudo labels and labeled data together"
   ]
  },
  {
   "cell_type": "code",
   "execution_count": null,
   "metadata": {},
   "outputs": [],
   "source": [
    "Xc=np.array(list(Xl)+list(Xu))\n",
    "yc=np.array(list(yl)+ list(yu))\n",
    "loss=model.train(Xc, yc, 2000, 1.E-4, 1.E-3, True)"
   ]
  },
  {
   "cell_type": "code",
   "execution_count": null,
   "metadata": {},
   "outputs": [],
   "source": [
    "yu=model.predict(Xu)\n",
    "sum(yu==yu_t)/len(yu)"
   ]
  },
  {
   "cell_type": "code",
   "execution_count": null,
   "metadata": {},
   "outputs": [],
   "source": [
    "a=None\n",
    "if a is None:\n",
    "    print('correct')\n",
    "    a=1"
   ]
  },
  {
   "cell_type": "code",
   "execution_count": null,
   "metadata": {},
   "outputs": [],
   "source": [
    "a"
   ]
  },
  {
   "cell_type": "code",
   "execution_count": null,
   "metadata": {},
   "outputs": [],
   "source": []
  }
 ],
 "metadata": {
  "kernelspec": {
   "display_name": "Python 3",
   "language": "python",
   "name": "python3"
  },
  "language_info": {
   "codemirror_mode": {
    "name": "ipython",
    "version": 3
   },
   "file_extension": ".py",
   "mimetype": "text/x-python",
   "name": "python",
   "nbconvert_exporter": "python",
   "pygments_lexer": "ipython3",
   "version": "3.7.3"
  }
 },
 "nbformat": 4,
 "nbformat_minor": 4
}

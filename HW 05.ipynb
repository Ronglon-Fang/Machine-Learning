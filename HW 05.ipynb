{
 "cells": [
  {
   "cell_type": "markdown",
   "metadata": {},
   "source": [
    "Consider the boston house-prices dataset"
   ]
  },
  {
   "cell_type": "code",
   "execution_count": 2,
   "metadata": {},
   "outputs": [],
   "source": [
    "from sklearn.datasets import load_boston\n",
    "import numpy as np\n",
    "from numpy import linalg as LA\n",
    "import matplotlib.pyplot as plt"
   ]
  },
  {
   "cell_type": "code",
   "execution_count": 4,
   "metadata": {},
   "outputs": [
    {
     "name": "stdout",
     "output_type": "stream",
     "text": [
      "[[6.3200e-03 2.7310e-02 2.7290e-02 ... 6.0760e-02 1.0959e-01 4.7410e-02]\n",
      " [1.8000e+01 0.0000e+00 0.0000e+00 ... 0.0000e+00 0.0000e+00 0.0000e+00]\n",
      " [2.3100e+00 7.0700e+00 7.0700e+00 ... 1.1930e+01 1.1930e+01 1.1930e+01]\n",
      " ...\n",
      " [1.5300e+01 1.7800e+01 1.7800e+01 ... 2.1000e+01 2.1000e+01 2.1000e+01]\n",
      " [3.9690e+02 3.9690e+02 3.9283e+02 ... 3.9690e+02 3.9345e+02 3.9690e+02]\n",
      " [4.9800e+00 9.1400e+00 4.0300e+00 ... 5.6400e+00 6.4800e+00 7.8800e+00]]\n"
     ]
    }
   ],
   "source": [
    "boston = load_boston()\n",
    "# training inputs, 506 houses with 13-dim information for each house\n",
    "X_training = boston.data\n",
    "print(X_training)\n",
    "# training outputs, 506 house-prices\n",
    "Y_training = boston.target"
   ]
  },
  {
   "cell_type": "markdown",
   "metadata": {},
   "source": [
    "We would like to use the regularized least-squares regularization method to find a function $f(x) = w_0 + \\sum_{i=1}^{13}w_ix_i$ to model the house prices:\n",
    "$${\\rm min} \\sum_{j}(f(x_j)-y_j)^{2} + \\mu \\|w\\|_{l^2}^{2}$$\n",
    "where $w = (w_0, w_1, \\cdots, w_{13})$. For a given regularization parameter $\\mu$, we already know how to solve the above problem.\n",
    "\n",
    "Use 5-fold cross validation method to find the optimal parameter $\\mu$ in $\\{10, 1, 0.1, 0.01, 0.001\\}$ with respect to the mean square error\n",
    "$$MSE = \\sum_j (f(x_j)-y_j)^{2}$$\n",
    "Note that when randomly dividing the data into 5 groups, they do not need to have exactly the same size. For example, you could have 5 groups with sizes 101, 101, 101, 101, and 102"
   ]
  },
  {
   "cell_type": "markdown",
   "metadata": {},
   "source": [
    "First, we use general way to solve this optimization problem\n",
    "\n",
    "Let $\\mathbf{w} := (w_0, w_1, \\cdots, w_{13})^{T}$, $\\mathbf{y} = (y_1, y_2, \\cdots, y_N)$\n",
    "\\begin{equation}\n",
    "\\mathbf{A}: = \n",
    "\\begin{bmatrix}\n",
    "1 & \\mathbf{x}_1\\\\\n",
    "1 & \\mathbf{x}_2\\\\\n",
    "\\vdots & \\vdots \\\\\n",
    "1 & \\mathbf{x}_N\n",
    "\\end{bmatrix}\n",
    "\\end{equation}\n",
    "\n",
    "Then $F(\\mathbf{w}): =  \\sum_{j}(f(x_j)-y_j)^{2} + \\mu \\|w\\|_{l^2}^{2}$ can be write as the matrix-vector form\n",
    "$$F(\\mathbf{w}) = (\\mathbf{Aw-y})^{T}(\\mathbf{Aw-y})+ \\mu \\mathbf{w}^{T}\\mathbf{w}$$\n",
    "\n",
    "The gradient of F is\n",
    "$$\\nabla F (\\mathbf{w}) = 2 \\mathbf{A}^{T}(\\mathbf{Aw-y})+ 2\\mu \\mathbf{w}$$\n",
    "\n",
    "Thus \n",
    "$$\\mathbf{w}  = (\\mathbf{A^TA+\\mu I})^{-1}\\mathbf{A^Ty}$$"
   ]
  },
  {
   "cell_type": "code",
   "execution_count": 5,
   "metadata": {},
   "outputs": [],
   "source": [
    "# consider 5-fold cross validation\n",
    "index_1=np.random.choice(506, 101, replace=False)\n",
    "left_index1 = [x for x in range(506) if x not in index_1]\n",
    "index_2 = np.random.choice(left_index1, 101, replace=False)\n",
    "left_index2 = [x for x in left_index1 if x not in index_2]\n",
    "index_3 = np.random.choice(left_index2, 101, replace=False)\n",
    "left_index3 = [x for x in left_index2 if x not in index_3]\n",
    "index_4 = np.random.choice(left_index3, 101, replace=False)\n",
    "index_5 = [x for x in left_index3 if x not in index_4]\n",
    "index = [index_1, index_2, index_3, index_4, index_5]\n",
    "\n",
    "Mu = np.array([10, 1, 0.1, 1e-2, 1e-3])\n",
    "\n",
    "def crossed(X_training,Y_training, ind, mu):\n",
    "    X_test = X_training[ind,:]\n",
    "    Y_test = Y_training[ind]\n",
    "    left_index = [x for x in range(506) if x not in ind]\n",
    "    X_train = X_training[left_index,:]\n",
    "    Y_train = Y_training[left_index]\n",
    "    \n",
    "    n = np.shape(X_train)[0]\n",
    "    A = np.block([np.ones([n,1]), X_train])\n",
    "    y = np.reshape(Y_train,[np.size(Y_train),1])\n",
    "    \n",
    "    dim = np.shape(A)[1]\n",
    "    w = LA.solve(np.dot(A.T, A) + mu * np.eye(dim), np.dot(A.T, y))\n",
    "    #print(w,'\\n','***********************************')\n",
    "    \n",
    "    return w\n",
    "\n",
    "def MSErr(X_training, Y_training, ind, w):\n",
    "    X_test = X_training[ind,:]\n",
    "    Y_test = Y_training[ind]    \n",
    "    n = np.shape(X_test)[0]\n",
    "    A = np.block([np.ones([n,1]), X_test])\n",
    "    y = np.reshape(Y_test,[np.size(Y_test),1])\n",
    "    \n",
    "    #error = LA.norm(np.dot(A,w)-y)\n",
    "    error = np.dot((np.dot(A,w)-y).T, np.dot(A,w)-y)\n",
    "    return error\n",
    "\n",
    "# 5-fold cross validation     \n",
    "def cross_validation(X_training, Y_training, index , mu):\n",
    "    Err = 0\n",
    "    for i in range(5):\n",
    "        ind = index[i]\n",
    "        w = crossed(X_training,Y_training, ind, mu)\n",
    "        mserr = MSErr(X_training, Y_training, ind, w)\n",
    "        Err = Err + mserr\n",
    "    return Err\n",
    "    \n",
    "# Find proper mu\n",
    "def Proper_mu(X_training, Y_training, index, Mu):\n",
    "    n = np.size(Mu)\n",
    "    Error = np.zeros(n)\n",
    "    for i in range(n):\n",
    "        mu = Mu[i]\n",
    "        Err = cross_validation(X_training, Y_training, index , mu)\n",
    "        Error[i] = Err\n",
    "    k = np.argmin(Error)\n",
    "    pro_mu = Mu[k]\n",
    "    return pro_mu, Error[k]"
   ]
  },
  {
   "cell_type": "code",
   "execution_count": 101,
   "metadata": {},
   "outputs": [],
   "source": [
    "pro_mu, Error = Proper_mu(X_training, Y_training, index, Mu)"
   ]
  },
  {
   "cell_type": "code",
   "execution_count": 102,
   "metadata": {},
   "outputs": [
    {
     "name": "stdout",
     "output_type": "stream",
     "text": [
      "the most proper mu is: 0.01 \n",
      " the MSE error:  11865.214444764742\n"
     ]
    }
   ],
   "source": [
    "print(\"the most proper mu is:\",pro_mu,\"\\n\", \"the MSE error: \", Error)"
   ]
  },
  {
   "cell_type": "markdown",
   "metadata": {},
   "source": [
    "I have run the code many times, sometimes the most suitable is 0.1, sometimes is 0.01, sometimes is 0.001. So I think [0.1,0.01,0.001] can be used in this project."
   ]
  },
  {
   "cell_type": "markdown",
   "metadata": {},
   "source": [
    "### The MSE error is so large, one possible reason is the linear model is not suitable for the data."
   ]
  },
  {
   "cell_type": "code",
   "execution_count": 7,
   "metadata": {},
   "outputs": [
    {
     "name": "stdout",
     "output_type": "stream",
     "text": [
      "[[6.3200e-03 1.8000e+01 2.3100e+00 ... 1.5300e+01 3.9690e+02 4.9800e+00]\n",
      " [2.7310e-02 0.0000e+00 7.0700e+00 ... 1.7800e+01 3.9690e+02 9.1400e+00]\n",
      " [2.7290e-02 0.0000e+00 7.0700e+00 ... 1.7800e+01 3.9283e+02 4.0300e+00]\n",
      " ...\n",
      " [6.0760e-02 0.0000e+00 1.1930e+01 ... 2.1000e+01 3.9690e+02 5.6400e+00]\n",
      " [1.0959e-01 0.0000e+00 1.1930e+01 ... 2.1000e+01 3.9345e+02 6.4800e+00]\n",
      " [4.7410e-02 0.0000e+00 1.1930e+01 ... 2.1000e+01 3.9690e+02 7.8800e+00]]\n"
     ]
    }
   ],
   "source": [
    "print(X_training)"
   ]
  },
  {
   "cell_type": "code",
   "execution_count": 8,
   "metadata": {},
   "outputs": [],
   "source": [
    "import pandas as pd\n",
    "\n",
    "df = pd.DataFrame(data=X_training)\n",
    "df.to_csv('X_trainging.csv',index=False)\n",
    "df1 = pd.DataFrame(data=Y_training)\n",
    "df1.to_csv('Y_trainging.csv',index=False)"
   ]
  },
  {
   "cell_type": "code",
   "execution_count": null,
   "metadata": {},
   "outputs": [],
   "source": []
  }
 ],
 "metadata": {
  "kernelspec": {
   "display_name": "Python 3",
   "language": "python",
   "name": "python3"
  },
  "language_info": {
   "codemirror_mode": {
    "name": "ipython",
    "version": 3
   },
   "file_extension": ".py",
   "mimetype": "text/x-python",
   "name": "python",
   "nbconvert_exporter": "python",
   "pygments_lexer": "ipython3",
   "version": "3.7.3"
  }
 },
 "nbformat": 4,
 "nbformat_minor": 2
}

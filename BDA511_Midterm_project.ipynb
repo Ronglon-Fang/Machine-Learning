{
 "cells": [
  {
   "cell_type": "markdown",
   "metadata": {},
   "source": [
    "Given three groups of points:\n",
    "+ Group 1:\n",
    "    xo=np.array([ [ 2.,  1. ],[ 3. ,  2. ],[ 3.5 , 3. ],[ 4.5 , 2.5],[ 4.7 , 1.5],[ 5. ,  1. ],[ 8. ,  2. ],[ 1. ,  6. ],[ 0.5 , 5.5],[ 0.2 , 7. ],[ 1.5 , 6.8] ])\n",
    "                 \n",
    "+ Group 2:\n",
    "    xb=np.array([ [-1. , -1. ],[-2. , -3. ],[-3.5, -2. ],[-4. , -1.5],[-4.5, -2.5],[-8. , -2. ],[-5,-4],[-5.5,-3],\n",
    "[-6,-2.5],[-7,-1.8] ])\n",
    "\n",
    "+ Group 3:\n",
    "    xg=np.array([ [1.5,-1],[1.8,-2],[2,-2.5],[2.5,-1.8],[3,-2.3],[3.5,-1.9],[4,-2.5],[4.5,-3],[5,-3.4],[5.5,-1.7],[6,-2.3],[7,-3.2] ]) \n",
    "\n",
    "Use KNN method with $K=5$ to predict the class labels for all the following testing points:\n",
    "\\begin{align*}\n",
    "(3*sin(0.4*i), 3*cos(0.4*i)), \\quad 0\\leq i\\leq 19.\n",
    "\\end{align*}\n",
    "\n",
    "+ Output all the labels of the above 20 points. (You could use (1,0,0),(0,1,0), and (0,0,1) as the labels of these 3 groups.)\n",
    "+ Plot all the points including the given training points and the 20 testing points in the same figure\n",
    "    - use marker='+' for the training points and marker='*' for the testing points\n",
    "    - use color Orange for Group 1 points, color Blue for Group 2 points, and color Green for Group 3 points.\n",
    "    - Hint: you could use the following command shown in Lecture 11: ax.plot(x1p,x2p,color='orange', marker='+', linestyle='none', linewidth=2, markersize=12)\n",
    "\n",
    "Please upload two files in the Gdrive folder\n",
    "+ the pdf file consisting of the codes and all the outputs\n",
    "+ the .ipynb jupyter notebook file of all your codes."
   ]
  },
  {
   "cell_type": "code",
   "execution_count": 57,
   "metadata": {},
   "outputs": [],
   "source": [
    "import numpy as np\n",
    "from numpy import linalg as LA\n",
    "import matplotlib.pyplot as plt"
   ]
  },
  {
   "cell_type": "code",
   "execution_count": 58,
   "metadata": {},
   "outputs": [],
   "source": [
    "xo=np.array([ [ 2., 1. ],[ 3. , 2. ],[ 3.5 , 3. ],[ 4.5 , 2.5],[ 4.7 , 1.5],[ 5. , 1. ],\n",
    "             [ 8. , 2. ],[ 1. , 6. ],[ 0.5 , 5.5],[ 0.2 , 7. ],[ 1.5 , 6.8] ])\n",
    "xb=np.array([ [-1. , -1. ],[-2. , -3. ],[-3.5, -2. ],[-4. , -1.5],[-4.5, -2.5],\n",
    "             [-8. , -2. ],[-5,-4],[-5.5,-3], [-6,-2.5],[-7,-1.8] ])\n",
    "xg=np.array([ [1.5,-1],[1.8,-2],[2,-2.5],[2.5,-1.8],[3,-2.3],[3.5,-1.9],\n",
    "             [4,-2.5],[4.5,-3],[5,-3.4],[5.5,-1.7],[6,-2.3],[7,-3.2] ]) "
   ]
  },
  {
   "cell_type": "code",
   "execution_count": 59,
   "metadata": {},
   "outputs": [],
   "source": [
    "m = np.shape(xo)[0]\n",
    "n = np.shape(xb)[0]\n",
    "q = np.shape(xg)[0]\n",
    "# Let three group in one matrix\n",
    "X_traindata = np.block([[xo],[xb],[xg]])\n",
    "\n",
    "# testdata\n",
    "I = np.arange(20)\n",
    "X_testdata = np.array([3*np.sin(0.4*I), 3*np.cos(0.4*I)]).T\n",
    "\n",
    "# We use KNN with K=5 to find the lable of the testdata\n",
    "nn = np.shape(X_traindata)[0]\n",
    "yy = np.zeros([nn,20])\n",
    "yy_sort = np.zeros([nn,20])\n",
    "for i in range(20):\n",
    "    data = X_testdata[i,:] - X_traindata\n",
    "    yy[:,i] = LA.norm(data, axis = 1)\n",
    "    yy_sort[:,i] = np.argsort([yy[:,i]])\n",
    "yy_5sort = yy_sort[0:5,:].T\n",
    "# then we need to vote\n",
    "yy_label = np.zeros([20,3])\n",
    "for i in range(20):\n",
    "    k1, k2, k3 = 0, 0, 0\n",
    "    for j in range(5):\n",
    "        if yy_5sort[i,j] < m: k1 = k1 + 1\n",
    "        elif yy_5sort[i,j] < m+n: k2 = k2 + 1\n",
    "        else: k3 = k3 +1\n",
    "    k = np.argmax([k1,k2,k3])\n",
    "    # [1,0,0] <------> 1, [0,1,0] <------> 2, [0,0,1] <------> 3   \n",
    "    if k == 0:\n",
    "        yy_label[i,:] = [1,0,0]\n",
    "    elif k == 1:\n",
    "        yy_label[i,:] = [0,1,0]\n",
    "    else:\n",
    "        yy_label[i,:] = [0,0,1]    "
   ]
  },
  {
   "cell_type": "code",
   "execution_count": 60,
   "metadata": {},
   "outputs": [
    {
     "name": "stdout",
     "output_type": "stream",
     "text": [
      "The label of the test data is, \n",
      " [[1. 0. 0.]\n",
      " [1. 0. 0.]\n",
      " [1. 0. 0.]\n",
      " [1. 0. 0.]\n",
      " [0. 0. 1.]\n",
      " [0. 0. 1.]\n",
      " [0. 0. 1.]\n",
      " [0. 0. 1.]\n",
      " [0. 0. 1.]\n",
      " [0. 1. 0.]\n",
      " [0. 1. 0.]\n",
      " [0. 1. 0.]\n",
      " [0. 1. 0.]\n",
      " [0. 1. 0.]\n",
      " [0. 1. 0.]\n",
      " [1. 0. 0.]\n",
      " [1. 0. 0.]\n",
      " [1. 0. 0.]\n",
      " [1. 0. 0.]\n",
      " [1. 0. 0.]]\n"
     ]
    }
   ],
   "source": [
    "print(\"The label of the test data is, \\n\", yy_label)"
   ]
  },
  {
   "cell_type": "markdown",
   "metadata": {},
   "source": [
    "we plot the data and our result"
   ]
  },
  {
   "cell_type": "code",
   "execution_count": 61,
   "metadata": {},
   "outputs": [
    {
     "data": {
      "image/png": "[encoded data removed]",
      "text/plain": [
       "<Figure size 432x288 with 1 Axes>"
      ]
     },
     "metadata": {
      "needs_background": "light"
     },
     "output_type": "display_data"
    }
   ],
   "source": [
    "fig,ax=plt.subplots()\n",
    "ax.plot(xo[:,0],xo[:,1],color='orange', marker='+', linestyle='none', linewidth=2, markersize=12)\n",
    "ax.plot(xb[:,0],xb[:,1],color='blue', marker='+', linestyle='none', linewidth=2, markersize=12)\n",
    "ax.plot(xg[:,0],xg[:,1],color='green', marker='+', linestyle='none', linewidth=2, markersize=12)\n",
    "for i in range(20):\n",
    "    if (yy_label[i,:] == np.array([1,0,0])).all():\n",
    "        ax.plot(X_testdata[i,0],X_testdata[i,1],color='orange', marker='*', \n",
    "                linestyle='none', linewidth=2, markersize=12)\n",
    "    elif (yy_label[i,:] == np.array([0,1,0])).all() :\n",
    "        ax.plot(X_testdata[i,0],X_testdata[i,1],color='blue', marker='*', \n",
    "                linestyle='none', linewidth=2, markersize=12)\n",
    "    else:\n",
    "        ax.plot(X_testdata[i,0],X_testdata[i,1],color='green', marker='*', \n",
    "                linestyle='none', linewidth=2, markersize=12)\n",
    "ax.spines['left'].set_position('zero')\n",
    "ax.spines['right'].set_color('none')\n",
    "ax.yaxis.tick_left()\n",
    "ax.spines['bottom'].set_position('zero')\n",
    "ax.spines['top'].set_color('none')\n",
    "ax.xaxis.tick_bottom()\n",
    "ax.set_aspect('equal')\n",
    "ax.axis([-9,9,-6,8])\n",
    "plt.show()"
   ]
  },
  {
   "cell_type": "markdown",
   "metadata": {},
   "source": [
    "It looks pretty !!!"
   ]
  },
  {
   "cell_type": "markdown",
   "metadata": {},
   "source": []
  },
  {
   "cell_type": "code",
   "execution_count": null,
   "metadata": {},
   "outputs": [],
   "source": []
  }
 ],
 "metadata": {
  "kernelspec": {
   "display_name": "Python 3",
   "language": "python",
   "name": "python3"
  },
  "language_info": {
   "codemirror_mode": {
    "name": "ipython",
    "version": 3
   },
   "file_extension": ".py",
   "mimetype": "text/x-python",
   "name": "python",
   "nbconvert_exporter": "python",
   "pygments_lexer": "ipython3",
   "version": "3.7.3"
  }
 },
 "nbformat": 4,
 "nbformat_minor": 2
}

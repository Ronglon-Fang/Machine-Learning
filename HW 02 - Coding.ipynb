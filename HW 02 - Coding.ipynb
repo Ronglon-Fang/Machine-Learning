{
 "cells": [
  {
   "cell_type": "markdown",
   "metadata": {},
   "source": [
    "### HW 02 Coding Assignment\n",
    "\n",
    "Given a set of inputs X=[-1. -0.8 -0.6 -0.4 -0.2  0 0.2  0.4  0.6  0.8  1] and the corresponding outputs Y=[-5.4 -4.9 -4.5 -3.6 -2.7 -2.  -1.1 -0.1  0.1  1.1  1.5], find the linear regression function $y=ax+b$ according to the regularized least square method. That is, solve the following minimization problem\n",
    "$$\\min_{a,b}F(a,b)=\\sum_{j=1}^{11} (ax_j +b - y_j)^2 + \\mu (a^2+b^2),$$\n",
    "where $\\mu=0.1$.\n",
    "\n",
    "1. Formulate it as a linear system and use linear solver in Python to find the exact solution $(a^*,b^*)$ and $F(a^*,b^*)$.\n",
    "\n",
    "2. Use gradient descent method to find the approximate minimizer by using the following settings:\n",
    "\n",
    "    + initial value $(a_0, b_0)=(0,0)$\n",
    "    + use $(a_{k+1},b_{k+1})=(a_k,b_k) - \\eta \\nabla F(a_k,b_k)$ with learning rate $\\eta=0.1$\n",
    "    + run it for 200 times\n",
    "    + store all the intermediate values of $a$, $b$, and $F(a,b)$. (There should be 200 for each of them)\n",
    "    + output the final value of $a$, $b$, and $F(a,b)$\n",
    "    + plot all the 200 values of $F(a,b)$. It should be a decreasing curve, that is, getting less and less and approaching the true value $F(a^*,b^*)$\n",
    "    + compute the approximation error $e_k=\\sqrt{(a_k-a^*)^2 + (b_k-b^*)^2}$ for each iteration $k$ and plot the error curve.\n",
    "    \n",
    "3. Consider using other stopping criterion (such as the difference between two consecutive iterations or the value of the gradient) instead of setting the total iteration counts.\n",
    "\n",
    "4. Try to play with the learning rate $\\eta$ to see the difference."
   ]
  },
  {
   "cell_type": "markdown",
   "metadata": {},
   "source": [
    "### Solution"
   ]
  },
  {
   "cell_type": "markdown",
   "metadata": {},
   "source": [
    "1. Let $w = (a,b)^{T}$,"
   ]
  },
  {
   "cell_type": "markdown",
   "metadata": {},
   "source": [
    "\\begin{equation}\n",
    "\\mathbf{X}=\n",
    "\\begin{bmatrix}\n",
    "ax_{1}+b-y_{1}\\\\\n",
    "ax_{2}+b-y_{2}\\\\\n",
    "\\vdots\\\\\n",
    "ax_{11}+b-y_{11}\n",
    "\\end{bmatrix}\n",
    "=\n",
    "\\begin{bmatrix}\n",
    "x_{1}&1\\\\\n",
    "x_{2}&1\\\\\n",
    "\\vdots&1\\\\\n",
    "x_{2}&1\n",
    "\\end{bmatrix}\n",
    "\\begin{bmatrix}\n",
    "a\\\\\n",
    "b\n",
    "\\end{bmatrix}\n",
    "-\n",
    "\\begin{bmatrix}\n",
    "y_{1}\\\\\n",
    "y_{2}\\\\\n",
    "\\vdots\\\\\n",
    "y_{11}\n",
    "\\end{bmatrix}\n",
    "\\end{equation}\n",
    "\n",
    "let\n",
    "\n",
    "\\begin{equation*}\n",
    "    \\mathbf{X}:=\n",
    "    \\begin{pmatrix}\n",
    "    ax_{1}+b -y_{1}\\\\ \n",
    "    ax_{2}+b -y_{2}\\\\ \n",
    "    \\vdots\\\\ \n",
    "    ax_{11}+b -y_{11}\n",
    "    \\end{pmatrix}\n",
    "    \\mathbf{A}:=\n",
    "    \\begin{pmatrix}\n",
    "    x_{1}&1\\\\\n",
    "    x_{2}&1\\\\\n",
    "    \\vdots&\\vdots\\\\\n",
    "    x_{11}&1\n",
    "    \\end{pmatrix}\n",
    "    \\mathbf{w}:=\n",
    "    \\begin{pmatrix}\n",
    "     a\\\\\n",
    "    b\n",
    "    \\end{pmatrix}\n",
    "    \\mathbf{y}:=\n",
    "    \\begin{pmatrix}\n",
    "    y_{1}\\\\\n",
    "    y_{2}\\\\\n",
    "    \\vdots\\\\\n",
    "    y_{11}\n",
    "    \\end{pmatrix}\n",
    "\\end{equation*}\n",
    "\n",
    "we have\n",
    "$$\\mathbf{X} = \\mathbf{Aw-Y}$$\n",
    "\n",
    "Then\n",
    "$$F(\\mathbf{w}) = (\\mathbf{Aw-Y})^{T}(\\mathbf{Aw-Y})+\\mu \\mathbf(w^{T}w)$$\n",
    "$$\\nabla F (\\mathbf{w}) = 2 \\mathbf{A}^{T}(\\mathbf{Aw-Y})+2\\mu\\mathbf{w}$$\n",
    "\n",
    "solve $\\nabla F(\\mathbf{w}) = 0$, we can get $\\mathbf{w} = (\\mathbf{A^{T}A}+\\mu)^{-1}\\mathbf{A^{T}Y}$. Then we use linear solver in Python to find the exact solution $(a^*,b^*)$"
   ]
  },
  {
   "cell_type": "code",
   "execution_count": 1,
   "metadata": {},
   "outputs": [],
   "source": [
    "import numpy as np\n",
    "from numpy import linalg as LA"
   ]
  },
  {
   "cell_type": "code",
   "execution_count": 2,
   "metadata": {},
   "outputs": [],
   "source": [
    "A = np.array([[-1,1],[-0.8,1],[-0.6,1],[-0.4,1],[-0.2,1],[0,1],[0.2,1],[0.4,1],[0.6,1],[0.8,1],[1,1]])\n",
    "y = np.array([-5.4, -4.9, -4.5, -3.6, -2.7, -2., -1.1, -0.1, 0.1, 1.1, 1.5])"
   ]
  },
  {
   "cell_type": "code",
   "execution_count": 3,
   "metadata": {},
   "outputs": [
    {
     "data": {
      "text/plain": [
       "array([[-1. ,  1. ],\n",
       "       [-0.8,  1. ],\n",
       "       [-0.6,  1. ],\n",
       "       [-0.4,  1. ],\n",
       "       [-0.2,  1. ],\n",
       "       [ 0. ,  1. ],\n",
       "       [ 0.2,  1. ],\n",
       "       [ 0.4,  1. ],\n",
       "       [ 0.6,  1. ],\n",
       "       [ 0.8,  1. ],\n",
       "       [ 1. ,  1. ]])"
      ]
     },
     "execution_count": 3,
     "metadata": {},
     "output_type": "execute_result"
    }
   ],
   "source": [
    "A"
   ]
  },
  {
   "cell_type": "code",
   "execution_count": 4,
   "metadata": {},
   "outputs": [
    {
     "name": "stdout",
     "output_type": "stream",
     "text": [
      "[ 3.59555556 -1.94594595]\n"
     ]
    }
   ],
   "source": [
    "w = LA.solve(np.dot(np.transpose(A),A)+0.1*np.eye(2),np.dot(np.transpose(A),y))\n",
    "print(w)"
   ]
  },
  {
   "cell_type": "markdown",
   "metadata": {},
   "source": [
    "So that the exact solution is [ 3.59555556 -1.94594595], we can plot the figure."
   ]
  },
  {
   "cell_type": "code",
   "execution_count": 5,
   "metadata": {},
   "outputs": [
    {
     "data": {
      "text/plain": [
       "<Figure size 640x480 with 1 Axes>"
      ]
     },
     "metadata": {},
     "output_type": "display_data"
    }
   ],
   "source": [
    "import matplotlib.pyplot as plt\n",
    "x = A[:,0]\n",
    "plt.scatter(x,y)\n",
    "X = np.linspace(-1,1,100)\n",
    "Y = w[0]*X+w[1]\n",
    "plt.plot(X,Y,color='red',linewidth=3.0)\n",
    "plt.show()"
   ]
  },
  {
   "cell_type": "markdown",
   "metadata": {},
   "source": [
    "2. Use gradient descent to solve this problems"
   ]
  },
  {
   "cell_type": "code",
   "execution_count": 6,
   "metadata": {},
   "outputs": [],
   "source": [
    "def f(a,b):\n",
    "    N, f, mu = 11, 0, 0.1\n",
    "    x = A[:,0]\n",
    "    for i in range(N):\n",
    "        f = f + np.power((a*x[i]+b-y[i]),2)\n",
    "    f = f + mu*( a*a + b*b )\n",
    "    return f\n",
    "\n",
    "def df(a,b):\n",
    "    N, mu = 11, 0.1\n",
    "    df = np.zeros(2)\n",
    "    x = A[:,0]\n",
    "    for i in range(N):\n",
    "        da = 2*(a*x[i]+b-y[i])*x[i]\n",
    "        db = 2*(a*x[i]+b-y[i])\n",
    "        df = df + np.array([da, db])\n",
    "    df = df + np.array([2*mu*a, 2*mu*b])\n",
    "    return df\n",
    "\n",
    "err = lambda a,b,a0,b0 : np.sqrt(np.power((a-a0),2) + np.power((b-b0),2))"
   ]
  },
  {
   "cell_type": "code",
   "execution_count": 7,
   "metadata": {},
   "outputs": [
    {
     "data": {
      "text/plain": [
       "array([-23.36,  87.6 ])"
      ]
     },
     "execution_count": 7,
     "metadata": {},
     "output_type": "execute_result"
    }
   ],
   "source": [
    "df(1,2)"
   ]
  },
  {
   "cell_type": "code",
   "execution_count": 18,
   "metadata": {},
   "outputs": [],
   "source": [
    "# gradient descent \n",
    "num_steps = 200   # num_steps is the no. of iteration\n",
    "eta = 0.05        # learning rate, 0.1 is disconverge\n",
    "a, b = 5,5        # initial data\n",
    "a0, b0 = w        # true solution\n",
    "\n",
    "# store all the intermediate values during the descents:\n",
    "a_vals = np.zeros(num_steps)\n",
    "b_vals = np.zeros(num_steps)\n",
    "f_vals = np.zeros(num_steps)\n",
    "err_vals = np.zeros(num_steps)\n",
    "\n",
    "for j in range(num_steps):\n",
    "    # update a and b\n",
    "    (a,b) = np.array([a,b]) - eta * df(a,b)\n",
    "    # store a, b, and f(a,b) \n",
    "    a_vals[j] = a\n",
    "    b_vals[j] = b\n",
    "    f_vals[j] = f(a,b)\n",
    "    err_vals[j] = err(a,b,a0,b0)\n",
    "    "
   ]
  },
  {
   "cell_type": "code",
   "execution_count": 19,
   "metadata": {},
   "outputs": [
    {
     "name": "stdout",
     "output_type": "stream",
     "text": [
      "Local minimum of f(a, b): 2.1514786786786786 at point (3.5955555555555563, -1.945945945945946)\n"
     ]
    },
    {
     "data": {
      "image/png": "[encoded data removed]",
      "text/plain": [
       "<Figure size 432x288 with 1 Axes>"
      ]
     },
     "metadata": {
      "needs_background": "light"
     },
     "output_type": "display_data"
    }
   ],
   "source": [
    "print(\"Local minimum of f(a, b):\", f(a, b), \"at point\", (a, b))\n",
    "# Let's see what the f(x,y) values were\n",
    "plt.plot(range(num_steps), f_vals)\n",
    "plt.show()"
   ]
  },
  {
   "cell_type": "code",
   "execution_count": 20,
   "metadata": {},
   "outputs": [
    {
     "data": {
      "image/png": "[encoded data removed]",
      "text/plain": [
       "<Figure size 432x288 with 1 Axes>"
      ]
     },
     "metadata": {
      "needs_background": "light"
     },
     "output_type": "display_data"
    }
   ],
   "source": [
    "plt.plot(range(num_steps), err_vals)\n",
    "plt.show()"
   ]
  },
  {
   "cell_type": "markdown",
   "metadata": {},
   "source": [
    "3. use the norm of gradient of f to stop iterations. Given a $\\varepsilon$, wants $\\|\\nabla f (a,b)\\| < \\varepsilon$"
   ]
  },
  {
   "cell_type": "code",
   "execution_count": 21,
   "metadata": {},
   "outputs": [],
   "source": [
    "eta = 0.05        # learning rate, 0.1 is disconverge\n",
    "a, b = 0,0        # initial data\n",
    "a0, b0 = w        # true solution\n",
    "epsilon = 0.01    # stop crition \n",
    "\n",
    "# store all the intermediate values during the descents:\n",
    "a_vals = []\n",
    "b_vals = []\n",
    "f_vals = []\n",
    "err_vals = []\n",
    "k = 0       # compute the number of iteration\n",
    "while LA.norm(df(a,b)) > epsilon:\n",
    "    # update a and b\n",
    "    (a,b) = np.array([a,b]) - eta * df(a,b)\n",
    "    # store a, b, and f(a,b) \n",
    "    a_vals.append(a)\n",
    "    b_vals.append(b)\n",
    "    f_vals.append(f(a,b))\n",
    "    err_vals.append(err(a,b,a0,b0))\n",
    "    k = k+1"
   ]
  },
  {
   "cell_type": "code",
   "execution_count": 22,
   "metadata": {},
   "outputs": [
    {
     "name": "stdout",
     "output_type": "stream",
     "text": [
      "the number of iteration is  14\n",
      "Local minimum of f(a, b): 2.1514818040370742 at point (3.5947221744374764, -1.9459459459458721)\n"
     ]
    },
    {
     "data": {
      "image/png": "[encoded data removed]",
      "text/plain": [
       "<Figure size 432x288 with 1 Axes>"
      ]
     },
     "metadata": {
      "needs_background": "light"
     },
     "output_type": "display_data"
    }
   ],
   "source": [
    "print(\"the number of iteration is \", k)\n",
    "print(\"Local minimum of f(a, b):\", f(a, b), \"at point\", (a, b))\n",
    "# Let's see what the f(x,y) values were\n",
    "plt.plot(range(k), f_vals)\n",
    "plt.show()"
   ]
  },
  {
   "cell_type": "markdown",
   "metadata": {},
   "source": []
  },
  {
   "cell_type": "markdown",
   "metadata": {},
   "source": []
  },
  {
   "cell_type": "code",
   "execution_count": 25,
   "metadata": {},
   "outputs": [],
   "source": [
    "x = np.arange(-1000,1000)* 0.01"
   ]
  },
  {
   "cell_type": "code",
   "execution_count": null,
   "metadata": {},
   "outputs": [],
   "source": [
    "np.log(sigma(x))"
   ]
  },
  {
   "cell_type": "code",
   "execution_count": null,
   "metadata": {},
   "outputs": [],
   "source": []
  }
 ],
 "metadata": {
  "kernelspec": {
   "display_name": "Python 3",
   "language": "python",
   "name": "python3"
  },
  "language_info": {
   "codemirror_mode": {
    "name": "ipython",
    "version": 3
   },
   "file_extension": ".py",
   "mimetype": "text/x-python",
   "name": "python",
   "nbconvert_exporter": "python",
   "pygments_lexer": "ipython3",
   "version": "3.7.3"
  }
 },
 "nbformat": 4,
 "nbformat_minor": 2
}
